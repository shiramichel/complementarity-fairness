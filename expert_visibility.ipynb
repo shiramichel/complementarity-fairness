{
 "cells": [
  {
   "cell_type": "code",
   "execution_count": 1,
   "metadata": {},
   "outputs": [],
   "source": [
    "# Libraries\n",
    "import torch\n",
    "import matplotlib.pyplot as plt\n",
    "%matplotlib inline\n",
    "import torch.nn as nn\n",
    "import numpy as np\n",
    "from sklearn.model_selection import train_test_split\n",
    "from sklearn.tree import DecisionTreeClassifier\n",
    "from sklearn.neighbors import KNeighborsClassifier\n",
    "import random\n",
    "import torch.nn.functional as F\n",
    "import matplotlib.colors as mcolors"
   ]
  },
  {
   "cell_type": "markdown",
   "metadata": {},
   "source": [
    "Standard approach"
   ]
  },
  {
   "cell_type": "code",
   "execution_count": 2,
   "metadata": {},
   "outputs": [],
   "source": [
    "class Linear_net_rej(nn.Module):\n",
    "    '''\n",
    "   (Mozannar & Sontag) Linear classifier and deferral for L_CE loss for binary response\n",
    "   novel convex consistent surrogate loss\n",
    "    '''\n",
    "    def __init__(self, input_dim, out_dim):\n",
    "        super(Linear_net_rej, self).__init__()\n",
    "        # an affine operation: y = Wx + b\n",
    "        self.fc = nn.Linear(input_dim, out_dim+1) # out: 0,1,2\n",
    "        self.fc_rej = nn.Linear(input_dim, 1)\n",
    "        torch.nn.init.ones_(self.fc.weight)\n",
    "        torch.nn.init.ones_(self.fc_rej.weight)\n",
    "        self.softmax = nn.Softmax(dim=0) # dim = 0 to get 0,1,2 as output\n",
    "\n",
    "    def forward(self, x):\n",
    "        out = self.fc(x)\n",
    "        rej = self.fc_rej(x)\n",
    "        #out = torch.cat([out,rej],1)\n",
    "        out = self.softmax(out)\n",
    "        return out"
   ]
  },
  {
   "cell_type": "code",
   "execution_count": 3,
   "metadata": {},
   "outputs": [],
   "source": [
    "def reject_CrossEntropyLoss(outputs, h, labels, m, n_classes):\n",
    "    '''\n",
    "    (Mozannar & Sontag) Implmentation of L_{CE}^{\\alpha}\n",
    "        outputs: classifier and rejector model outputs\n",
    "        h: cost of deferring to expert cost of classifier predicting (I_{m =y})\n",
    "        labels: target\n",
    "        m: cost of classifier predicting (alpha* I_{m\\neq y} + I_{m =y})\n",
    "        n_classes: number of classes/outputs\n",
    "    '''    \n",
    "    batch_size = outputs.size()[0]            # batch_size\n",
    "    rc = torch.tensor([n_classes] * batch_size, dtype=torch.long)\n",
    "    #labels = torch.tensor(labels, dtype=torch.long)\n",
    "    labels = labels.clone().detach().long()\n",
    "    outputs =  -h*torch.log2( outputs[range(batch_size), rc]) - m*torch.log2(outputs[range(batch_size), labels])   # pick the values corresponding to the labels\n",
    "    return torch.sum(outputs)/batch_size"
   ]
  },
  {
   "cell_type": "code",
   "execution_count": 4,
   "metadata": {},
   "outputs": [],
   "source": [
    "def run_classifier_rej(model, exp_heuristic, data_x, data_y, alpha, p, k):\n",
    "    '''\n",
    "    (Mozannar & Sontag) training script for L_{CE}\n",
    "        model: classifier and rejector model\n",
    "        data_x: input\n",
    "        data_y: label\n",
    "        alpha: hyperparam alpha for loss L_CE^{\\alpha}\n",
    "        p: probability of randomly selecting expert 1\n",
    "    '''\n",
    "    \n",
    "    #optimizer = torch.optim.Adam(model.parameters(), lr=0.01, betas=(0.5, 0.99), weight_decay=1)\n",
    "    optimizer = torch.optim.Adam(model.parameters(), lr=0.1)\n",
    "    scheduler = torch.optim.lr_scheduler.CosineAnnealingLR(optimizer, len(data_x)*100)\n",
    "    torch.nn.utils.clip_grad_norm_(model.parameters(), max_norm=3.0)\n",
    "\n",
    "\n",
    "    for epoch in range(1):  # loop over the dataset multiple times\n",
    "        inputs = torch.tensor(data_x)\n",
    "        labels = torch.tensor(data_y)\n",
    "\n",
    "        # split to create batch size\n",
    "        x_batches = torch.split(inputs, 5)\n",
    "        y_batches = torch.split(labels, 5) \n",
    "\n",
    "        loss_train = []\n",
    "\n",
    "        for inputs, labels in zip(x_batches, y_batches):\n",
    "\n",
    "            optimizer.zero_grad()\n",
    "\n",
    "            # forward + backward + optimize\n",
    "            rand_exp = random.choices([1, k], weights=[p, 1-p])[0] # randomly select expert k\n",
    "\n",
    "            predicted = torch.tensor(exp_heuristic[rand_exp-1](inputs))  # get predictions from selected expert\n",
    "            \n",
    "            h = (predicted==labels)*1\n",
    "            m = [0] * len(inputs) \n",
    "            for j in range (0,len(inputs)): # determines weights\n",
    "                if h[j]:\n",
    "                    m[j] = alpha\n",
    "                else:\n",
    "                    m[j] = 1\n",
    "\n",
    "            h = h.clone().detach()\n",
    "            m = torch.tensor(m)\n",
    "            inputs = inputs.to(torch.float32)\n",
    "            outputs = model(inputs)\n",
    "\n",
    "            # Loss\n",
    "            loss = reject_CrossEntropyLoss(outputs, h, labels, m, 2) # this is loss for classifier and rejector, 2 outputs\n",
    "            loss.backward()\n",
    "            optimizer.step()\n",
    "            scheduler.step()\n",
    "            loss_train.append(loss.item())\n",
    "\n",
    "    plt.plot(loss_train, label='Training Loss')\n",
    "    plt.xlabel('Epoch')\n",
    "    plt.ylabel('Loss')\n",
    "    plt.title('Training Loss over Epochs')\n",
    "    plt.legend()\n",
    "    plt.show()   "
   ]
  },
  {
   "cell_type": "code",
   "execution_count": 5,
   "metadata": {},
   "outputs": [],
   "source": [
    "def classifier_rej(model, exp_heuristic, data_x, data_y, p, k, exp_instances, classifier_instances):\n",
    "    '''\n",
    "    (Mozannar & Sontag) Test classifier and deferral model for L_{CE} loss\n",
    "    '''\n",
    "    correct = 0\n",
    "    correct_sys = 0\n",
    "    exp = [0]*k\n",
    "    exp_total = [0]*k\n",
    "    total = 0\n",
    "    real_total = 0\n",
    "    points = len(data_x)\n",
    "\n",
    "    with torch.no_grad():\n",
    "        inputs = torch.tensor(data_x)\n",
    "        labels = torch.tensor(data_y)\n",
    "\n",
    "        inputs = inputs.to(model.fc.weight.dtype)\n",
    "        outputs = model(inputs)\n",
    "        _, predicted = torch.max(outputs.data, 1) #0/1 (ML), 2 (defer to expert)\n",
    "        predicted_exp = [torch.tensor(exp_heuristic(inputs)) for exp_heuristic in exp_heuristic]\n",
    "\n",
    "        for i in range(len(inputs)):\n",
    "            r = (predicted[i] == 2).item() # if 2, then defer to expert\n",
    "            if r:\n",
    "                rand_exp = random.choices([1, k], weights=[p, 1-p])[0] # randomly select expert for each point\n",
    "                correct_sys += (predicted_exp[rand_exp-1][i] == labels[i]).item()\n",
    "                exp[rand_exp-1] += (predicted_exp[rand_exp-1][i] == labels[i]).item()\n",
    "                exp_total[rand_exp-1] += 1\n",
    "                exp_instances[rand_exp-1].append(i)\n",
    "            else: \n",
    "                correct += (predicted[i] == labels[i]).item()\n",
    "                correct_sys += (predicted[i] == labels[i]).item()\n",
    "                total += 1\n",
    "                classifier_instances.append(i)\n",
    "        real_total += labels.size(0)\n",
    "\n",
    "    print(\"system accuracy\", 100 * correct_sys / real_total)\n",
    "    print(\"total points:\", points)\n",
    "    print()\n",
    "\n",
    "    for idx, (c, expert_total) in enumerate(zip(exp, exp_total)):\n",
    "        print(f\"Expert {idx+1} defer count:\", expert_total)\n",
    "        print(f\"Expert {idx+1} defer percent:\", 100 * expert_total / points if expert_total != 0 else 0)\n",
    "        print(f\"Expert {idx+1} correct predictions:\", c)\n",
    "        print(f\"Expert {idx+1} accuracy:\", 100 * c / (expert_total + 0.0002) if expert_total != 0 else 0)\n",
    "        print()\n",
    "\n",
    "    print(\"Not deferred to any expert count:\", total)\n",
    "    print(\"Not deferred percent:\", 100 * total / points)\n",
    "    print(\"Model correct predictions:\", correct)\n",
    "    print(\"Model accuracy:\", 100 * correct / (total + 0.0001))\n",
    "\n",
    "    print()\n",
    "    overall_exp_total = sum(exp_total)\n",
    "    overall_exp_correct = sum(exp)\n",
    "    print(\"Overall expert count:\", overall_exp_total)\n",
    "    print(\"Overall expert defer percent:\", 100 * overall_exp_total / points)\n",
    "    print(\"Overall expert correct predictions:\", overall_exp_correct)\n",
    "    print(\"Overall expert accuracy:\", 100 * overall_exp_correct / (overall_exp_total + 0.0001) if overall_exp_total != 0 else 0)\n",
    "\n",
    "    return exp_instances, classifier_instances"
   ]
  },
  {
   "cell_type": "markdown",
   "metadata": {},
   "source": [
    "Optimal approach"
   ]
  },
  {
   "cell_type": "code",
   "execution_count": 6,
   "metadata": {},
   "outputs": [],
   "source": [
    "class Linear_net_rej_id(nn.Module):\n",
    "    '''\n",
    "   (Mozannar & Sontag) Linear classifier and deferral for L_CE loss for binary response\n",
    "   novel convex consistent surrogate loss\n",
    "    '''\n",
    "    def __init__(self, input_dim, out_dim, k):\n",
    "        super(Linear_net_rej_id, self).__init__()\n",
    "        # an affine operation: y = Wx + b\n",
    "        self.fc = nn.Linear(input_dim, out_dim+k) # out: 0,1,2,3\n",
    "        self.fc_rej = nn.Linear(input_dim, 1)\n",
    "        torch.nn.init.ones_(self.fc.weight)\n",
    "        torch.nn.init.ones_(self.fc_rej.weight)\n",
    "        self.softmax = nn.Softmax(dim=0) # dim = 0 to get 0,1,2,3 as output\n",
    "\n",
    "    def forward(self, x):\n",
    "        out = self.fc(x)\n",
    "        rej = self.fc_rej(x)\n",
    "        #out = torch.cat([out,rej],1)\n",
    "        out = self.softmax(out)\n",
    "        return out"
   ]
  },
  {
   "cell_type": "code",
   "execution_count": 7,
   "metadata": {},
   "outputs": [],
   "source": [
    "def reject_CrossEntropyLoss_id(outputs, h, labels, m, k, n_classes):\n",
    "    '''\n",
    "    (Mozannar & Sontag) Implmentation of L_{CE}^{\\alpha}\n",
    "        outputs: classifier and rejector model outputs\n",
    "        h: cost of deferring to expert k cost of classifier predicting (I_{m =y})\n",
    "        labels: target\n",
    "        m: cost of classifier predicting (alpha* I_{m\\neq y} + I_{m =y})\n",
    "        n_classes: number of classes, binary here\n",
    "    '''    \n",
    "    batch_size = outputs.size()[0]            # batch_size\n",
    "    rc = torch.tensor([n_classes] * batch_size, dtype=torch.long)\n",
    "    labels = labels.clone().detach().long()\n",
    "    outputs_exp = [torch.zeros(batch_size) for _ in range(k)]\n",
    "\n",
    "    for i in range(k):\n",
    "        outputs_exp[i] = -h[i] * torch.log2(outputs[range(batch_size), rc]) - m[:, i] * torch.log2(outputs[range(batch_size), labels])\n",
    "\n",
    "    outputs = sum(outputs_exp)  # Sum the losses from all experts\n",
    "    \n",
    "    return torch.sum(outputs) / batch_size"
   ]
  },
  {
   "cell_type": "code",
   "execution_count": 8,
   "metadata": {},
   "outputs": [],
   "source": [
    "def classifier_rej_id(model, exp_heuristic, data_x, data_y, k, exp_instances, classifier_instances):\n",
    "    '''\n",
    "    (Mozannar & Sontag) Test classifier and deferral model for L_{CE} loss\n",
    "    '''\n",
    "    correct = 0\n",
    "    correct_sys = 0\n",
    "    exp = [0]*k\n",
    "    exp_total = [0]*k\n",
    "    total = 0\n",
    "    real_total = 0\n",
    "    points = len(data_x)\n",
    "\n",
    "    with torch.no_grad():\n",
    "        inputs = torch.tensor(data_x)\n",
    "        labels = torch.tensor(data_y)\n",
    "\n",
    "        inputs = inputs.to(torch.float32)\n",
    "        outputs = model(inputs)\n",
    "        _, predicted = torch.max(outputs.data, 1)\n",
    "        predicted_exp = [torch.tensor(exp_heuristic(inputs)) for exp_heuristic in exp_heuristic]\n",
    "\n",
    "        for i in range(len(inputs)):\n",
    "            r = predicted[i].item() > 1  # if greater than 1, then defer to experts\n",
    "            if r:\n",
    "                expert_id = predicted[i].item() - 2  # expert index starts from 0\n",
    "                correct_sys += (predicted_exp[expert_id][i] == labels[i]).item()\n",
    "                exp[expert_id] += (predicted_exp[expert_id][i] == labels[i]).item()\n",
    "                exp_total[expert_id] += 1\n",
    "                exp_instances[expert_id].append(i)\n",
    "\n",
    "            else:\n",
    "                correct += (predicted[i] == labels[i]).item()\n",
    "                correct_sys += (predicted[i] == labels[i]).item()\n",
    "                total += 1\n",
    "                classifier_instances.append(i)\n",
    "        real_total += labels.size(0)\n",
    "\n",
    "    print(\"system accuracy\", 100 * correct_sys / real_total)\n",
    "    print(\"total points:\", points)\n",
    "    print()\n",
    "\n",
    "    for idx, (c, expert_total) in enumerate(zip(exp, exp_total)):\n",
    "        print(f\"Expert {idx+1} defer count:\", expert_total)\n",
    "        print(f\"Expert {idx+1} defer percent:\", 100 * expert_total / points if expert_total != 0 else 0)\n",
    "        print(f\"Expert {idx+1} correct predictions:\", c)\n",
    "        print(f\"Expert {idx+1} accuracy:\", 100 * c / (expert_total + 0.0002) if expert_total != 0 else 0)\n",
    "        print()\n",
    "\n",
    "    print(\"Not deferred to any expert count:\", total)\n",
    "    print(\"Not deferred percent:\", 100 * total / points)\n",
    "    print(\"Model correct predictions:\", correct)\n",
    "    print(\"Model accuracy:\", 100 * correct / (total + 0.0001))\n",
    "    print()\n",
    "\n",
    "    print()\n",
    "    overall_exp_total = sum(exp_total)\n",
    "    overall_exp_correct = sum(exp)\n",
    "    print(\"Overall expert count:\", overall_exp_total)\n",
    "    print(\"Overall expert defer percent:\", 100 * overall_exp_total / points)\n",
    "    print(\"Overall expert correct predictions:\", overall_exp_correct)\n",
    "    print(\"Overall expert accuracy:\", 100 * overall_exp_correct / (overall_exp_total + 0.0001) if overall_exp_total != 0 else 0)\n",
    "\n",
    "    return exp_instances, classifier_instances\n"
   ]
  },
  {
   "cell_type": "code",
   "execution_count": 9,
   "metadata": {},
   "outputs": [],
   "source": [
    "def getSyntheticDataset(m_values, s_values, sizes, flip_prob=0.5):\n",
    "    X, y, groups = [], [], []\n",
    "    num_clusters = len(m_values)\n",
    "    index_to_group = {} \n",
    "    index_counter = 0\n",
    "    \n",
    "    # Generate data for each cluster\n",
    "    for cluster_idx in range(num_clusters):\n",
    "        m = m_values[cluster_idx]\n",
    "        s = s_values[cluster_idx]\n",
    "        total = sizes[cluster_idx]\n",
    "        \n",
    "        # Generate data points for the current cluster\n",
    "        mu = np.array(m)  # Mean vector for the cluster\n",
    "        sig = np.diag([s for _ in range(len(m))])  # Diagonal covariance matrix\n",
    "        \n",
    "        cluster_data = np.random.multivariate_normal(mu, sig, total)\n",
    "        X.extend(cluster_data)\n",
    "        \n",
    "        # Assign labels and groups\n",
    "        if cluster_idx == 0:\n",
    "            # Assign label 0 for all data points in the first cluster\n",
    "            labels = [0] * total\n",
    "        elif cluster_idx == 1:\n",
    "            # Assign label 1 for all data points in the second cluster\n",
    "            labels = [1] * total\n",
    "        else:\n",
    "            # Assign labels randomly based on flip_prob for other clusters\n",
    "            labels = np.random.choice([0, 1], size=total, p=[1 - flip_prob, flip_prob])\n",
    "        \n",
    "        y.extend(labels)\n",
    "        groups.extend([cluster_idx] * total)\n",
    "\n",
    "         # Map index to group for each data point\n",
    "        for i in range(total):\n",
    "            index_to_group[index_counter] = cluster_idx\n",
    "            index_counter += 1  # Increment index counter\n",
    "\n",
    "    return X, y, groups, index_to_group"
   ]
  },
  {
   "cell_type": "code",
   "execution_count": 10,
   "metadata": {},
   "outputs": [],
   "source": [
    "def visualize_clusters(X, y, groups, sizes):\n",
    "    import itertools\n",
    "    colors = [\"orange\", \"orange\", \"blue\", \"green\", \"gray\"]\n",
    "    markers = [\".\", \"+\"]\n",
    "\n",
    "    indices = list(range(np.sum(sizes)))\n",
    "    random.shuffle(indices)\n",
    "    # indices = indices[:500]\n",
    "\n",
    "    for label, group in itertools.product(np.unique(y), np.unique(groups)):\n",
    "        x1 = [X[i][0] for i in indices if y[i]==label and groups[i]==group]\n",
    "        x2 = [X[i][1] for i in indices if y[i]==label and groups[i]==group]\n",
    "    \n",
    "        #leg = \"Group \" + str(group) + \", Label \" + str(label)\n",
    "        plt.scatter(x1, x2, c=colors[group], marker=markers[label], s=100)\n",
    "    #plt.legend(ncol=2)"
   ]
  },
  {
   "cell_type": "code",
   "execution_count": 11,
   "metadata": {},
   "outputs": [
    {
     "data": {
      "image/png": "[encoded data removed]",
      "text/plain": [
       "<Figure size 640x480 with 1 Axes>"
      ]
     },
     "metadata": {},
     "output_type": "display_data"
    }
   ],
   "source": [
    "k = 4  # Number of clusters\n",
    "\n",
    "# Define parameters for each cluster \n",
    "m_values = [\n",
    "    [0, 0],    # Cluster 1\n",
    "    [2.5, 2.5], # Cluster 2\n",
    "    [5, 5],    # Cluster 3\n",
    "    [7.5, 7.5], # Cluster 4\n",
    "]\n",
    "\n",
    "s_values = [0.5, 0.5, 1.0, 1.0]  # Standard deviation for each cluster\n",
    "sizes = [500, 500, 500, 500]     # Number of data points for each cluster\n",
    "\n",
    "# Generate synthetic dataset with k clusters\n",
    "X, y, groups, group_index = getSyntheticDataset(m_values, s_values, sizes)\n",
    "\n",
    "# Visualize clusters\n",
    "visualize_clusters(X, y, groups, sizes)\n",
    "\n",
    "custom_colors = ['purple', 'yellow']\n",
    "custom_cmap = mcolors.ListedColormap(custom_colors)"
   ]
  },
  {
   "cell_type": "code",
   "execution_count": 12,
   "metadata": {},
   "outputs": [
    {
     "name": "stderr",
     "output_type": "stream",
     "text": [
      "/var/folders/rn/y27_vshj5d549src5ptd24d00000gq/T/ipykernel_52863/1022546185.py:1: UserWarning: Creating a tensor from a list of numpy.ndarrays is extremely slow. Please consider converting the list to a single numpy.ndarray with numpy.array() before converting to a tensor. (Triggered internally at /Users/runner/work/_temp/anaconda/conda-bld/pytorch_1708025536958/work/torch/csrc/utils/tensor_new.cpp:278.)\n",
      "  X = torch.tensor(X)\n"
     ]
    }
   ],
   "source": [
    "X = torch.tensor(X)\n",
    "y = torch.tensor(y)\n",
    "\n",
    "X_train, X_test, y_train, y_test, group_train, group_test = train_test_split(X, y, groups, test_size=0.3)\n"
   ]
  },
  {
   "cell_type": "code",
   "execution_count": 13,
   "metadata": {},
   "outputs": [],
   "source": [
    "# Expert 1\n",
    "exp_1 = DecisionTreeClassifier().fit(X[1000:1500], y[1000:1500])\n",
    "\n",
    "# Expert 2\n",
    "exp_2 = DecisionTreeClassifier().fit(X[1500:2000], y[1500:2000])\n",
    "\n",
    "def expert1(inputs):\n",
    "    return exp_1.predict(inputs)\n",
    "\n",
    "def expert2(inputs):\n",
    "    return exp_2.predict(inputs)"
   ]
  },
  {
   "cell_type": "code",
   "execution_count": 14,
   "metadata": {},
   "outputs": [],
   "source": [
    "def getIndex(list_index):\n",
    "    X_index = []\n",
    "    for idx, j in enumerate(X):\n",
    "        for i in list_index:\n",
    "            if torch.equal(i, j):\n",
    "                X_index.append(idx)\n",
    "    return X_index"
   ]
  },
  {
   "cell_type": "code",
   "execution_count": 15,
   "metadata": {},
   "outputs": [],
   "source": [
    "def getGroup(list_index):\n",
    "    group_counts = {}\n",
    "    for i in list_index:\n",
    "        if i in group_index:\n",
    "            val = group_index[i]\n",
    "            if val in group_counts:\n",
    "                group_counts[val] += 1\n",
    "            else:\n",
    "                group_counts[val] = 1\n",
    "    return group_counts"
   ]
  },
  {
   "cell_type": "markdown",
   "metadata": {},
   "source": [
    "get expert visibility"
   ]
  },
  {
   "cell_type": "code",
   "execution_count": 16,
   "metadata": {},
   "outputs": [],
   "source": [
    "from collections import Counter\n",
    "\n",
    "group_train_count = dict(Counter(group_train))"
   ]
  },
  {
   "cell_type": "code",
   "execution_count": 17,
   "metadata": {},
   "outputs": [
    {
     "data": {
      "text/plain": [
       "{3: 355, 2: 353}"
      ]
     },
     "execution_count": 17,
     "metadata": {},
     "output_type": "execute_result"
    }
   ],
   "source": [
    "del group_train_count[0]\n",
    "del group_train_count[1]\n",
    "\n",
    "group_train_count"
   ]
  },
  {
   "cell_type": "code",
   "execution_count": 18,
   "metadata": {},
   "outputs": [],
   "source": [
    "total_train_exp_count = sum(group_train_count.values())\n",
    "\n",
    "for key in group_train_count:\n",
    "    group_train_count[key] /= total_train_exp_count"
   ]
  },
  {
   "cell_type": "code",
   "execution_count": 19,
   "metadata": {},
   "outputs": [
    {
     "data": {
      "text/plain": [
       "{3: 0.501412429378531, 2: 0.4985875706214689}"
      ]
     },
     "execution_count": 19,
     "metadata": {},
     "output_type": "execute_result"
    }
   ],
   "source": [
    "group_train_count"
   ]
  },
  {
   "cell_type": "code",
   "execution_count": 20,
   "metadata": {},
   "outputs": [],
   "source": [
    "maj_exp = max(group_train_count, key = group_train_count.get)"
   ]
  },
  {
   "cell_type": "code",
   "execution_count": 21,
   "metadata": {},
   "outputs": [],
   "source": [
    "maj_exp_percent = group_train_count[maj_exp]"
   ]
  },
  {
   "cell_type": "code",
   "execution_count": 22,
   "metadata": {},
   "outputs": [],
   "source": [
    "d = 2\n",
    "experts = [expert1, expert2]\n",
    "k = len(experts)\n",
    "exp_index = [[] for _ in range(k)]\n",
    "classifier_index = []\n"
   ]
  },
  {
   "cell_type": "markdown",
   "metadata": {},
   "source": [
    "standard"
   ]
  },
  {
   "cell_type": "code",
   "execution_count": 108,
   "metadata": {},
   "outputs": [
    {
     "name": "stderr",
     "output_type": "stream",
     "text": [
      "/var/folders/rn/y27_vshj5d549src5ptd24d00000gq/T/ipykernel_50815/1138102870.py:18: UserWarning: To copy construct from a tensor, it is recommended to use sourceTensor.clone().detach() or sourceTensor.clone().detach().requires_grad_(True), rather than torch.tensor(sourceTensor).\n",
      "  inputs = torch.tensor(data_x)\n",
      "/var/folders/rn/y27_vshj5d549src5ptd24d00000gq/T/ipykernel_50815/1138102870.py:19: UserWarning: To copy construct from a tensor, it is recommended to use sourceTensor.clone().detach() or sourceTensor.clone().detach().requires_grad_(True), rather than torch.tensor(sourceTensor).\n",
      "  labels = torch.tensor(data_y)\n"
     ]
    },
    {
     "data": {
      "image/png": "[encoded data removed]",
      "text/plain": [
       "<Figure size 640x480 with 1 Axes>"
      ]
     },
     "metadata": {},
     "output_type": "display_data"
    },
    {
     "name": "stdout",
     "output_type": "stream",
     "text": [
      "system accuracy 59.166666666666664\n",
      "total points: 600\n",
      "\n",
      "Expert 1 defer count: 82\n",
      "Expert 1 defer percent: 13.666666666666666\n",
      "Expert 1 correct predictions: 76\n",
      "Expert 1 accuracy: 92.68270077390055\n",
      "\n",
      "Expert 2 defer count: 80\n",
      "Expert 2 defer percent: 13.333333333333334\n",
      "Expert 2 correct predictions: 56\n",
      "Expert 2 accuracy: 69.9998250004375\n",
      "\n",
      "Not deferred to any expert count: 438\n",
      "Not deferred percent: 73.0\n",
      "Model correct predictions: 223\n",
      "Model accuracy: 50.91323038510722\n",
      "\n",
      "Overall expert count: 162\n",
      "Overall expert defer percent: 27.0\n",
      "Overall expert correct predictions: 132\n",
      "Overall expert accuracy: 81.48143118430174\n"
     ]
    },
    {
     "name": "stderr",
     "output_type": "stream",
     "text": [
      "/var/folders/rn/y27_vshj5d549src5ptd24d00000gq/T/ipykernel_50815/1299694543.py:14: UserWarning: To copy construct from a tensor, it is recommended to use sourceTensor.clone().detach() or sourceTensor.clone().detach().requires_grad_(True), rather than torch.tensor(sourceTensor).\n",
      "  inputs = torch.tensor(data_x)\n",
      "/var/folders/rn/y27_vshj5d549src5ptd24d00000gq/T/ipykernel_50815/1299694543.py:15: UserWarning: To copy construct from a tensor, it is recommended to use sourceTensor.clone().detach() or sourceTensor.clone().detach().requires_grad_(True), rather than torch.tensor(sourceTensor).\n",
      "  labels = torch.tensor(data_y)\n"
     ]
    }
   ],
   "source": [
    "m = Linear_net_rej(d,2) # 2 inputs\n",
    "alpha = 0\n",
    "p = maj_exp_percent\n",
    "\n",
    "run_classifier_rej(m, experts, X_train, y_train, alpha, p, k)\n",
    "\n",
    "exp_index, classifier_index = classifier_rej(m, experts, X_test, y_test, p, k, exp_index, classifier_index)"
   ]
  },
  {
   "cell_type": "code",
   "execution_count": 155,
   "metadata": {},
   "outputs": [],
   "source": [
    "majority_exp, minority_exp, classifier = [], [], []"
   ]
  },
  {
   "cell_type": "code",
   "execution_count": 156,
   "metadata": {},
   "outputs": [
    {
     "data": {
      "text/plain": [
       "{1: 300, 2: 939, 3: 216}"
      ]
     },
     "execution_count": 156,
     "metadata": {},
     "output_type": "execute_result"
    }
   ],
   "source": [
    "majority_exp = getIndex(X_test[exp_index[0]])\n",
    "getGroup(majority_exp)"
   ]
  },
  {
   "cell_type": "code",
   "execution_count": 117,
   "metadata": {},
   "outputs": [
    {
     "data": {
      "text/plain": [
       "{1: 10, 2: 56, 3: 14}"
      ]
     },
     "execution_count": 117,
     "metadata": {},
     "output_type": "execute_result"
    }
   ],
   "source": [
    "minority_exp = getIndex(X_test[exp_index[1]])\n",
    "getGroup(minority_exp)"
   ]
  },
  {
   "cell_type": "code",
   "execution_count": 113,
   "metadata": {},
   "outputs": [
    {
     "data": {
      "text/plain": [
       "{0: 148, 1: 130, 2: 27, 3: 133}"
      ]
     },
     "execution_count": 113,
     "metadata": {},
     "output_type": "execute_result"
    }
   ],
   "source": [
    "classifier = getIndex(X_test[classifier_index])\n",
    "getGroup(classifier)"
   ]
  },
  {
   "cell_type": "code",
   "execution_count": 114,
   "metadata": {},
   "outputs": [
    {
     "data": {
      "text/plain": [
       "{0: 148, 1: 150, 2: 143, 3: 159}"
      ]
     },
     "execution_count": 114,
     "metadata": {},
     "output_type": "execute_result"
    }
   ],
   "source": [
    "X_test_group = getIndex(X_test)\n",
    "getGroup(X_test_group)"
   ]
  },
  {
   "cell_type": "markdown",
   "metadata": {},
   "source": [
    "optimal"
   ]
  },
  {
   "cell_type": "code",
   "execution_count": 136,
   "metadata": {},
   "outputs": [],
   "source": [
    "exp_index = [[] for _ in range(k)]\n",
    "classifier_index = []"
   ]
  },
  {
   "cell_type": "code",
   "execution_count": 23,
   "metadata": {},
   "outputs": [
    {
     "name": "stderr",
     "output_type": "stream",
     "text": [
      "/var/folders/rn/y27_vshj5d549src5ptd24d00000gq/T/ipykernel_52863/1138102870.py:18: UserWarning: To copy construct from a tensor, it is recommended to use sourceTensor.clone().detach() or sourceTensor.clone().detach().requires_grad_(True), rather than torch.tensor(sourceTensor).\n",
      "  inputs = torch.tensor(data_x)\n",
      "/var/folders/rn/y27_vshj5d549src5ptd24d00000gq/T/ipykernel_52863/1138102870.py:19: UserWarning: To copy construct from a tensor, it is recommended to use sourceTensor.clone().detach() or sourceTensor.clone().detach().requires_grad_(True), rather than torch.tensor(sourceTensor).\n",
      "  labels = torch.tensor(data_y)\n"
     ]
    },
    {
     "data": {
      "image/png": "[encoded data removed]",
      "text/plain": [
       "<Figure size 640x480 with 1 Axes>"
      ]
     },
     "metadata": {},
     "output_type": "display_data"
    },
    {
     "name": "stdout",
     "output_type": "stream",
     "text": [
      "system accuracy 88.66666666666667\n",
      "total points: 600\n",
      "\n",
      "Expert 1 defer count: 216\n",
      "Expert 1 defer percent: 36.0\n",
      "Expert 1 correct predictions: 178\n",
      "Expert 1 accuracy: 82.40733110432305\n",
      "\n",
      "Expert 2 defer count: 72\n",
      "Expert 2 defer percent: 12.0\n",
      "Expert 2 correct predictions: 72\n",
      "Expert 2 accuracy: 99.99972222299381\n",
      "\n",
      "Not deferred to any expert count: 312\n",
      "Not deferred percent: 52.0\n",
      "Model correct predictions: 282\n",
      "Model accuracy: 90.38458641519667\n",
      "\n",
      "\n",
      "Overall expert count: 288\n",
      "Overall expert defer percent: 48.0\n",
      "Overall expert correct predictions: 250\n",
      "Overall expert accuracy: 86.80552541474813\n"
     ]
    },
    {
     "name": "stderr",
     "output_type": "stream",
     "text": [
      "/var/folders/rn/y27_vshj5d549src5ptd24d00000gq/T/ipykernel_52863/2749601287.py:14: UserWarning: To copy construct from a tensor, it is recommended to use sourceTensor.clone().detach() or sourceTensor.clone().detach().requires_grad_(True), rather than torch.tensor(sourceTensor).\n",
      "  inputs = torch.tensor(data_x)\n",
      "/var/folders/rn/y27_vshj5d549src5ptd24d00000gq/T/ipykernel_52863/2749601287.py:15: UserWarning: To copy construct from a tensor, it is recommended to use sourceTensor.clone().detach() or sourceTensor.clone().detach().requires_grad_(True), rather than torch.tensor(sourceTensor).\n",
      "  labels = torch.tensor(data_y)\n"
     ]
    }
   ],
   "source": [
    "m = Linear_net_rej_id(d,2,k) # 2 inputs\n",
    "alpha = 0\n",
    "p = maj_exp_percent\n",
    "\n",
    "run_classifier_rej(m, experts, X_train, y_train, alpha, p, k)\n",
    "\n",
    "exp_index, classifier_index = classifier_rej_id(m, experts, X_test, y_test, k, exp_index, classifier_index)"
   ]
  },
  {
   "cell_type": "code",
   "execution_count": 24,
   "metadata": {},
   "outputs": [],
   "source": [
    "majority_exp, minority_exp, classifier = [], [], []"
   ]
  },
  {
   "cell_type": "code",
   "execution_count": 30,
   "metadata": {},
   "outputs": [
    {
     "data": {
      "text/plain": [
       "{3: 72}"
      ]
     },
     "execution_count": 30,
     "metadata": {},
     "output_type": "execute_result"
    }
   ],
   "source": [
    "majority_exp = getIndex(X_test[exp_index[1]])\n",
    "getGroup(majority_exp)"
   ]
  },
  {
   "cell_type": "code",
   "execution_count": 31,
   "metadata": {},
   "outputs": [
    {
     "data": {
      "text/plain": [
       "{1: 1, 2: 142, 3: 73}"
      ]
     },
     "execution_count": 31,
     "metadata": {},
     "output_type": "execute_result"
    }
   ],
   "source": [
    "minority_exp = getIndex(X_test[exp_index[0]])\n",
    "getGroup(minority_exp)"
   ]
  },
  {
   "cell_type": "code",
   "execution_count": 32,
   "metadata": {},
   "outputs": [
    {
     "data": {
      "text/plain": [
       "{0: 143, 1: 164, 2: 5}"
      ]
     },
     "execution_count": 32,
     "metadata": {},
     "output_type": "execute_result"
    }
   ],
   "source": [
    "classifier = getIndex(X_test[classifier_index])\n",
    "getGroup(classifier)"
   ]
  },
  {
   "cell_type": "code",
   "execution_count": 33,
   "metadata": {},
   "outputs": [
    {
     "data": {
      "text/plain": [
       "{0: 143, 1: 165, 2: 147, 3: 145}"
      ]
     },
     "execution_count": 33,
     "metadata": {},
     "output_type": "execute_result"
    }
   ],
   "source": [
    "X_test_group = getIndex(X_test)\n",
    "getGroup(X_test_group)"
   ]
  }
 ],
 "metadata": {
  "kernelspec": {
   "display_name": "base",
   "language": "python",
   "name": "python3"
  },
  "language_info": {
   "codemirror_mode": {
    "name": "ipython",
    "version": 3
   },
   "file_extension": ".py",
   "mimetype": "text/x-python",
   "name": "python",
   "nbconvert_exporter": "python",
   "pygments_lexer": "ipython3",
   "version": "3.11.5"
  },
  "orig_nbformat": 4
 },
 "nbformat": 4,
 "nbformat_minor": 2
}
