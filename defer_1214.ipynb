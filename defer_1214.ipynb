{
 "cells": [
  {
   "cell_type": "code",
   "execution_count": 1,
   "metadata": {},
   "outputs": [],
   "source": [
    "import torch\n",
    "import torch.nn.functional as F\n",
    "from scipy.stats import multivariate_normal\n",
    "import math\n",
    "import numpy as np, scipy.stats as st\n",
    "import matplotlib.pyplot as plt\n",
    "from matplotlib import cm\n",
    "%matplotlib inline\n",
    "import torch\n",
    "import torch.nn as nn\n",
    "import torch.nn.functional as F\n",
    "import torch.optim as optim\n",
    "import random\n",
    "from torch.autograd import Variable\n",
    "from tqdm import tqdm"
   ]
  },
  {
   "cell_type": "code",
   "execution_count": 2,
   "metadata": {},
   "outputs": [],
   "source": [
    "def sample(mu, var, nb_samples=500):\n",
    "    \"\"\"\n",
    "    sample guassian random variable\n",
    "    :param mu: torch.Tensor (features)\n",
    "    :param var: torch.Tensor (features) (note: zero covariance)\n",
    "    :return: torch.Tensor (nb_samples, features)\n",
    "    \"\"\"\n",
    "    out = []\n",
    "    for i in range(nb_samples):\n",
    "        out += [\n",
    "            torch.normal(mu, var.sqrt())\n",
    "        ]\n",
    "    return torch.stack(out, dim=0)"
   ]
  },
  {
   "cell_type": "code",
   "execution_count": 3,
   "metadata": {},
   "outputs": [],
   "source": [
    "class Linear_net_sig(nn.Module):\n",
    "    '''\n",
    "    Linear binary classifier with unit init\n",
    "    '''\n",
    "    def __init__(self, input_dim, out_dim = 1):\n",
    "        super(Linear_net_sig, self).__init__()\n",
    "        # an affine operation: y = Wx + b\n",
    "        self.fc1 = nn.Linear(input_dim, 1)\n",
    "        torch.nn.init.ones_(self.fc1.weight)\n",
    "        self.sigmoid = nn.Sigmoid()\n",
    "\n",
    "    def forward(self, x):\n",
    "        x = self.fc1(x)\n",
    "        x = self.sigmoid(x)\n",
    "        return x    "
   ]
  },
  {
   "cell_type": "code",
   "execution_count": 129,
   "metadata": {},
   "outputs": [],
   "source": [
    "def run_classifier_sig(net, data_x, data_y):\n",
    "    '''\n",
    "    trains binary classifier using SGD\n",
    "    '''\n",
    "\n",
    "    BCE = torch.nn.BCELoss()\n",
    "    optimizer = optim.SGD(net.parameters(), lr=0.1, momentum=0)\n",
    "    for epoch in range(100):  # loop over the dataset multiple times\n",
    "\n",
    "        running_loss = 0.0\n",
    "        # get the inputs; data is a list of [inputs, labels]\n",
    "        inputs = data_x\n",
    "        labels = data_y\n",
    "        order = np.array(range(len(data_x)))\n",
    "        np.random.shuffle(order)\n",
    "        \n",
    "        # in-place changing of values\n",
    "        inputs[np.array(range(len(data_x)))] = inputs[order]\n",
    "        labels[np.array(range(len(data_x)))] = labels[order]\n",
    "\n",
    "        # zero the parameter gradients\n",
    "        #scheduler = torch.optim.lr_scheduler.CosineAnnealingLR(optimizer, len(inputs)*100)\n",
    "\n",
    "        # forward + backward + optimize\n",
    "        outputs = net(inputs)\n",
    "        #loss = -labels*torch.log2(outputs) - (1-labels)*torch.log2(1-outputs) #BCE(outputs, labels)\n",
    "        #loss = torch.sum(loss)/ len(inputs)\n",
    "        loss = BCE(outputs, labels) \n",
    "        optimizer.zero_grad()\n",
    "        loss.backward()\n",
    "        optimizer.step()\n",
    "        #scheduler.step()\n",
    "        running_loss += loss.item()\n",
    "    #print(\"loss \" + str(loss.item()))\n",
    "\n",
    "    #print('Finished Training')"
   ]
  },
  {
   "cell_type": "code",
   "execution_count": 5,
   "metadata": {},
   "outputs": [],
   "source": [
    "def test_classifier_sig(net, data_x, data_y):\n",
    "    '''\n",
    "    tests binary classifier and prints accuracy\n",
    "    '''\n",
    "    correct = 0\n",
    "    total = 0\n",
    "    with torch.no_grad():\n",
    "        inputs =  data_x\n",
    "        labels = data_y\n",
    "        outputs = net(inputs)\n",
    "        predicted = torch.round(outputs.data)\n",
    "        total = labels.size(0)\n",
    "        for i in range(total):\n",
    "            correct += predicted[i].item() == labels[i].item()\n",
    "        #correct = (predicted == labels).sum()\n",
    "    print('Accuracy of the network on the  test examples: %d %%' % (\n",
    "        100 * correct / total))"
   ]
  },
  {
   "cell_type": "code",
   "execution_count": 126,
   "metadata": {},
   "outputs": [],
   "source": [
    "class Linear_net_rej(nn.Module):\n",
    "    '''\n",
    "    Linear Classifier to be used for the L_CE loss\n",
    "    '''\n",
    "    def __init__(self, input_dim, out_dim):\n",
    "        super(Linear_net_rej, self).__init__()\n",
    "        # an affine operation: y = Wx + b\n",
    "        self.fc = nn.Linear(input_dim, out_dim+1)\n",
    "        self.fc_rej = nn.Linear(input_dim, 1)\n",
    "        torch.nn.init.ones_(self.fc.weight)\n",
    "        torch.nn.init.ones_(self.fc_rej.weight)\n",
    "        self.softmax = nn.Softmax()\n",
    "\n",
    "    def forward(self, x):\n",
    "        out = self.fc(x)\n",
    "        rej = self.fc_rej(x)\n",
    "        #out = torch.cat([out,rej],1)\n",
    "        out = self.softmax(out)\n",
    "        return out"
   ]
  },
  {
   "cell_type": "code",
   "execution_count": 17,
   "metadata": {},
   "outputs": [],
   "source": [
    "def reject_CrossEntropyLoss(outputs, m0, m1, labels, m2, n_classes):\n",
    "    '''\n",
    "    Implmentation of L_{CE}^{\\alpha}\n",
    "        outputs: network outputs\n",
    "        m0: cost of deferring to expert0 cost of classifier predicting (I_{m =y})\n",
    "        m1: cost of deferring to expert1 cost of classifier predicting (I_{m =y})\n",
    "        labels: target\n",
    "        m2:  cost of classifier predicting (alpha* I_{m\\neq y} + I_{m =y})\n",
    "        n_classes: number of classes\n",
    "    '''\n",
    "     \n",
    "    batch_size = outputs.size()[0]            # batch_size\n",
    "    rc = [n_classes] * batch_size\n",
    "    rc = torch.tensor(rc)\n",
    "    outputs =  -m0*torch.log2( outputs[range(batch_size), rc]) -m1*torch.log2( outputs[range(batch_size), rc]) - m2*torch.log2(outputs[range(batch_size), labels])   # pick the values corresponding to the labels\n",
    "    return torch.sum(outputs)/batch_size\n",
    "\n"
   ]
  },
  {
   "cell_type": "code",
   "execution_count": 195,
   "metadata": {},
   "outputs": [],
   "source": [
    "\n",
    "def run_classifier_rej(net, net_exp0, net_exp1, data_x, data_y, alpha):\n",
    "    '''\n",
    "    training script for L_{CE}\n",
    "        net: classifier and rejector model\n",
    "        net_exp1: expert1 model\n",
    "        net_exp0: expert0 model\n",
    "        data_x: numpy x data\n",
    "        data_y: numpy y data\n",
    "        alpha: hyperparam alpha for loss L_CE^{\\alpha}\n",
    "        '''\n",
    "    optimizer = optim.SGD(net.parameters(), lr=0.1)\n",
    "    #scheduler = torch.optim.lr_scheduler.CosineAnnealingLR(optimizer, len(data_x)*50)\n",
    "\n",
    "    for epoch in range(1):  \n",
    "        running_loss = 0.0\n",
    "        inputs = data_x\n",
    "        labels = data_y\n",
    "        order = np.array(range(len(data_x)))\n",
    "        np.random.shuffle(order)\n",
    "        inputs[np.array(range(len(data_x)))] = inputs[order]\n",
    "        labels[np.array(range(len(data_x)))] = labels[order]\n",
    "        x_batches = torch.split(inputs,64)\n",
    "        y_batches = torch.split(labels,64)  \n",
    "        for inputs, labels in zip(x_batches, y_batches):\n",
    "            optimizer.zero_grad()\n",
    "\n",
    "            # forward + backward + optimize\n",
    "            m0 = net_exp0(inputs) # need to be 0\n",
    "            m1 = net_exp1(inputs)\n",
    "            _, predicted0 = torch.min(m0.data, 1)\n",
    "            _, predicted1 = torch.max(m1.data, 1)\n",
    "\n",
    "            m0 = (predicted0==labels)*1\n",
    "            m1 = (predicted1==labels)*1\n",
    "            m2 = [0] * len(inputs)\n",
    "            for j in range (0,len(inputs)):\n",
    "                if (m0[j] | m1[j]):\n",
    "                    m2[j] = alpha\n",
    "                else:\n",
    "                    m2[j] = 1\n",
    "            m0 = torch.tensor(m0)\n",
    "            m1 = torch.tensor(m1)\n",
    "            m2 = torch.tensor(m2)\n",
    "            outputs = net(inputs)\n",
    "            loss = reject_CrossEntropyLoss(outputs, m0, m1, labels, m2, 2)\n",
    "            #loss = criterion(outputs, labels)\n",
    "            loss.backward()\n",
    "            optimizer.step()\n",
    "            #scheduler.step()\n",
    "            running_loss += loss.item()\n",
    "            #print(\"loss \" + str(loss.item()))\n",
    "\n",
    "    #print('Finished Training')\n",
    "\n"
   ]
  },
  {
   "cell_type": "code",
   "execution_count": 197,
   "metadata": {},
   "outputs": [],
   "source": [
    "\n",
    "def test_classifier_rej(net, net_exp0, net_exp1, data_x, data_y):\n",
    "    \n",
    "    '''Testing script for L_{CE} loss'''\n",
    "    \n",
    "    correct = 0\n",
    "    correct_sys = 0\n",
    "    exp0 = 0\n",
    "    exp0_total = 0\n",
    "    exp1 = 0\n",
    "    exp1_total = 0\n",
    "    total = 0\n",
    "    real_total = 0\n",
    "    alone_correct = 0\n",
    "    with torch.no_grad():\n",
    "        inputs =  data_x\n",
    "        labels = data_y\n",
    "        m0 = net_exp0(inputs)\n",
    "        m1 = net_exp1(inputs)\n",
    "        _, predicted_exp0 = torch.max(m0.data, 1)\n",
    "        _, predicted_exp1 = torch.max(m1.data, 1)\n",
    "        outputs = net(inputs)\n",
    "        _, predicted = torch.max(outputs.data, 1)\n",
    "        \n",
    "        '''\n",
    "        if a, then defer to expert0\n",
    "        if b, then defer to expert1\n",
    "        if c, then no defer\n",
    "        modify below\n",
    "        '''\n",
    "\n",
    "        for i in range(len(inputs)):\n",
    "            r = (predicted[i] == 2).item() # if 2, then defer to expert\n",
    "            if r:\n",
    "                exp0 += (predicted_exp0[i] == labels[i]).item()\n",
    "                correct_sys += (predicted_exp0[i] == labels[i]).item()\n",
    "                exp0_total += 1\n",
    "            else:\n",
    "                correct += (predicted[i] == labels[i]).item() \n",
    "                correct_sys += (predicted[i] == labels[i]).item()\n",
    "                total += 1\n",
    "        real_total += labels.size(0)\n",
    "\n",
    "    print(\"system accuracy\", 100 * correct_sys / real_total)\n",
    "    print(\"expert0 accuracy\", 100 * exp0 / (exp0_total + 0.0002))\n",
    "    print(\"expert1 accuracy\", 100 * exp1 / (exp1_total + 0.0002))\n",
    "    print(\"classifier accuracy\", 100 * correct / (total + 0.0001))\n",
    "    print(\"alone classifier\", 100 * alone_correct / real_total)\n",
    "\n",
    "\n",
    "    return [100 * total / real_total, 100 * correct_sys / real_total, 100 * exp0 / (exp0_total + 0.0002),\n",
    "            100 * exp1 / (exp1_total + 0.0002), 100 * correct / (total + 0.0001)]"
   ]
  },
  {
   "cell_type": "markdown",
   "metadata": {},
   "source": [
    "# Data Generation"
   ]
  },
  {
   "cell_type": "code",
   "execution_count": 36,
   "metadata": {},
   "outputs": [],
   "source": [
    "d = 10\n",
    "total_samples = 1000\n",
    "#group_proportion = np.random.uniform()\n",
    "group_proportion = 0.5\n",
    "#if group_proportion <= 0.02:\n",
    "    #group_proportion = 0.02\n",
    "#if group_proportion >= 0.98:\n",
    "    #group_proportion = 0.98\n",
    "    #group_proportion = 0.4\n",
    "cluster1_mean = torch.rand(d)*d\n",
    "cluster1_var = torch.rand(d)*d\n",
    "cluster1 = sample(\n",
    "        cluster1_mean,\n",
    "        cluster1_var,\n",
    "        nb_samples= math.floor(total_samples * group_proportion * 0.5 )\n",
    "    )\n",
    "cluster1_labels = torch.ones([math.floor(total_samples * group_proportion * 0.5 )], dtype=torch.long)\n",
    "cluster2_mean = torch.rand(d)*d\n",
    "cluster2_var = torch.rand(d)*d\n",
    "cluster2 = sample(\n",
    "        cluster2_mean,\n",
    "        cluster2_var,\n",
    "        nb_samples= math.floor(total_samples * group_proportion * 0.5 )\n",
    "    )\n",
    "cluster2_labels = torch.zeros([math.floor(total_samples * group_proportion * 0.5 )], dtype=torch.long)\n",
    "cluster3_mean = torch.rand(d)*d\n",
    "cluster3_var = torch.rand(d)*d\n",
    "cluster3 = sample(\n",
    "        cluster3_mean,\n",
    "        cluster3_var,\n",
    "        nb_samples= math.floor(total_samples * (1-group_proportion) * 0.5 )\n",
    "    )\n",
    "cluster3_labels = torch.ones([math.floor(total_samples * (1-group_proportion) * 0.5 )], dtype=torch.long)\n",
    "    \n",
    "cluster4_mean = torch.rand(d)*d\n",
    "cluster4_var = torch.rand(d)*d\n",
    "cluster4 = sample(\n",
    "        cluster4_mean,\n",
    "        cluster4_var,\n",
    "        nb_samples= math.floor(total_samples * (1-group_proportion) * 0.5 )\n",
    "    )\n",
    "cluster4_labels = torch.zeros([math.floor(total_samples * (1-group_proportion) * 0.5 )], dtype=torch.long)\n",
    "    \n",
    "    # test data\n",
    "cluster1_test = sample(\n",
    "        cluster1_mean,\n",
    "        cluster1_var,\n",
    "        nb_samples= math.floor(total_samples * group_proportion * 0.5 )\n",
    "    )\n",
    "cluster1_labels_test = torch.ones([math.floor(total_samples * group_proportion * 0.5 )], dtype=torch.long)\n",
    "    \n",
    "cluster2_test = sample(\n",
    "        cluster2_mean,\n",
    "        cluster2_var,\n",
    "        nb_samples= math.floor(total_samples * group_proportion * 0.5 )\n",
    "    )\n",
    "cluster2_labels_test = torch.zeros([math.floor(total_samples * group_proportion * 0.5 )], dtype=torch.long)\n",
    "\n",
    "cluster3_test = sample(\n",
    "        cluster3_mean,\n",
    "        cluster3_var,\n",
    "        nb_samples= math.floor(total_samples * (1-group_proportion) * 0.5 )\n",
    "    )\n",
    "cluster3_labels_test = torch.ones([math.floor(total_samples * (1-group_proportion) * 0.5 )], dtype=torch.long)\n",
    "    \n",
    "cluster4_test = sample(\n",
    "        cluster4_mean,\n",
    "        cluster4_var,\n",
    "        nb_samples= math.floor(total_samples * (1-group_proportion) * 0.5 )\n",
    "    )\n",
    "cluster4_labels_test = torch.zeros([math.floor(total_samples * (1-group_proportion) * 0.5 )], dtype=torch.long)\n",
    "data_x_test = torch.cat([cluster1_test, cluster2_test, cluster3_test, cluster4_test])\n",
    "data_y_test = torch.cat([cluster1_labels_test, cluster2_labels_test, cluster3_labels_test, cluster4_labels_test])"
   ]
  },
  {
   "cell_type": "markdown",
   "metadata": {},
   "source": [
    "# Experts models"
   ]
  },
  {
   "cell_type": "code",
   "execution_count": 143,
   "metadata": {},
   "outputs": [],
   "source": [
    "# expert0 model\n",
    "net_exp0 = Linear_net_sig(d,1)\n",
    "data_x = torch.cat([cluster4])\n",
    "data_y = cluster4_labels.view(-1, 1).type(torch.float)\n",
    "run_classifier_sig(net_exp0, data_x, data_y)"
   ]
  },
  {
   "cell_type": "code",
   "execution_count": 81,
   "metadata": {},
   "outputs": [],
   "source": [
    "# expert1 model\n",
    "net_exp1 = Linear_net_sig(d,1)\n",
    "data_x = torch.cat([cluster3])\n",
    "data_y = cluster3_labels.view(-1, 1).type(torch.float)\n",
    "run_classifier_sig(net_exp0, data_x, data_y)"
   ]
  },
  {
   "cell_type": "markdown",
   "metadata": {},
   "source": [
    "# Defer model with alpha = 0, 0.5, 1"
   ]
  },
  {
   "cell_type": "code",
   "execution_count": 48,
   "metadata": {},
   "outputs": [],
   "source": [
    "experimental_data_rej1 = []\n",
    "experimental_data_rej5 = []\n",
    "experimental_data_rej0 = []"
   ]
  },
  {
   "cell_type": "code",
   "execution_count": 200,
   "metadata": {},
   "outputs": [
    {
     "name": "stdout",
     "output_type": "stream",
     "text": [
      "system accuracy 98.5\n",
      "expert0 accuracy 97.64239778294782\n",
      "expert1 accuracy 0.0\n",
      "classifier accuracy 99.38898179450473\n",
      "alone classifier 0.0\n"
     ]
    },
    {
     "name": "stderr",
     "output_type": "stream",
     "text": [
      "/var/folders/rn/y27_vshj5d549src5ptd24d00000gq/T/ipykernel_89274/1374592031.py:41: UserWarning: To copy construct from a tensor, it is recommended to use sourceTensor.clone().detach() or sourceTensor.clone().detach().requires_grad_(True), rather than torch.tensor(sourceTensor).\n",
      "  m0 = torch.tensor(m0)\n",
      "/var/folders/rn/y27_vshj5d549src5ptd24d00000gq/T/ipykernel_89274/1374592031.py:42: UserWarning: To copy construct from a tensor, it is recommended to use sourceTensor.clone().detach() or sourceTensor.clone().detach().requires_grad_(True), rather than torch.tensor(sourceTensor).\n",
      "  m1 = torch.tensor(m1)\n"
     ]
    }
   ],
   "source": [
    "#reject\n",
    "data_x = torch.cat([cluster1, cluster2, cluster3, cluster4])\n",
    "data_y = torch.cat([cluster1_labels, cluster2_labels, cluster3_labels, cluster4_labels])\n",
    "\n",
    "net_rej = Linear_net_rej(d,3)\n",
    "alpha = 0\n",
    "run_classifier_rej(net_rej, net_exp0, net_exp1, data_x, data_y, alpha) ####\n",
    "batch_data = test_classifier_rej(net_rej, net_exp0, net_exp1, data_x_test, data_y_test) ####\n",
    "experimental_data_rej0.append(batch_data)"
   ]
  },
  {
   "cell_type": "code",
   "execution_count": 198,
   "metadata": {},
   "outputs": [
    {
     "name": "stdout",
     "output_type": "stream",
     "text": [
      "system accuracy 50.0\n",
      "expert0 accuracy 0.0\n",
      "expert1 accuracy 0.0\n",
      "classifier accuracy 49.9999950000005\n",
      "alone classifier 0.0\n"
     ]
    },
    {
     "name": "stderr",
     "output_type": "stream",
     "text": [
      "/var/folders/rn/y27_vshj5d549src5ptd24d00000gq/T/ipykernel_89274/1374592031.py:41: UserWarning: To copy construct from a tensor, it is recommended to use sourceTensor.clone().detach() or sourceTensor.clone().detach().requires_grad_(True), rather than torch.tensor(sourceTensor).\n",
      "  m0 = torch.tensor(m0)\n",
      "/var/folders/rn/y27_vshj5d549src5ptd24d00000gq/T/ipykernel_89274/1374592031.py:42: UserWarning: To copy construct from a tensor, it is recommended to use sourceTensor.clone().detach() or sourceTensor.clone().detach().requires_grad_(True), rather than torch.tensor(sourceTensor).\n",
      "  m1 = torch.tensor(m1)\n"
     ]
    }
   ],
   "source": [
    "net_rej = Linear_net_rej(d,3)\n",
    "alpha = 0.5\n",
    "run_classifier_rej(net_rej, net_exp0, net_exp1, data_x, data_y, alpha) ####\n",
    "batch_data = test_classifier_rej(net_rej, net_exp0, net_exp1, data_x_test, data_y_test) ####\n",
    "experimental_data_rej5.append(batch_data)"
   ]
  },
  {
   "cell_type": "code",
   "execution_count": 199,
   "metadata": {},
   "outputs": [
    {
     "name": "stdout",
     "output_type": "stream",
     "text": [
      "system accuracy 50.0\n",
      "expert0 accuracy 0.0\n",
      "expert1 accuracy 0.0\n",
      "classifier accuracy 49.9999950000005\n",
      "alone classifier 0.0\n"
     ]
    },
    {
     "name": "stderr",
     "output_type": "stream",
     "text": [
      "/var/folders/rn/y27_vshj5d549src5ptd24d00000gq/T/ipykernel_89274/1374592031.py:41: UserWarning: To copy construct from a tensor, it is recommended to use sourceTensor.clone().detach() or sourceTensor.clone().detach().requires_grad_(True), rather than torch.tensor(sourceTensor).\n",
      "  m0 = torch.tensor(m0)\n",
      "/var/folders/rn/y27_vshj5d549src5ptd24d00000gq/T/ipykernel_89274/1374592031.py:42: UserWarning: To copy construct from a tensor, it is recommended to use sourceTensor.clone().detach() or sourceTensor.clone().detach().requires_grad_(True), rather than torch.tensor(sourceTensor).\n",
      "  m1 = torch.tensor(m1)\n"
     ]
    }
   ],
   "source": [
    "net_rej = Linear_net_rej(d,3)\n",
    "alpha = 1\n",
    "run_classifier_rej(net_rej, net_exp0, net_exp1, data_x, data_y, alpha) ####\n",
    "batch_data = test_classifier_rej(net_rej, net_exp0, net_exp1, data_x_test, data_y_test) ####\n",
    "experimental_data_rej1.append(batch_data)"
   ]
  }
 ],
 "metadata": {
  "kernelspec": {
   "display_name": "base",
   "language": "python",
   "name": "python3"
  },
  "language_info": {
   "codemirror_mode": {
    "name": "ipython",
    "version": 3
   },
   "file_extension": ".py",
   "mimetype": "text/x-python",
   "name": "python",
   "nbconvert_exporter": "python",
   "pygments_lexer": "ipython3",
   "version": "3.11.5"
  },
  "orig_nbformat": 4
 },
 "nbformat": 4,
 "nbformat_minor": 2
}
